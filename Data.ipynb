{
  "nbformat": 4,
  "nbformat_minor": 0,
  "metadata": {
    "colab": {
      "provenance": [],
      "authorship_tag": "ABX9TyOduUgUs2+uYz2/4djtMPcZ",
      "include_colab_link": true
    },
    "kernelspec": {
      "name": "python3",
      "display_name": "Python 3"
    },
    "language_info": {
      "name": "python"
    }
  },
  "cells": [
    {
      "cell_type": "markdown",
      "metadata": {
        "id": "view-in-github",
        "colab_type": "text"
      },
      "source": [
        "<a href=\"https://colab.research.google.com/github/wendyw1999/AP-CS-A/blob/master/Data.ipynb\" target=\"_parent\"><img src=\"https://colab.research.google.com/assets/colab-badge.svg\" alt=\"Open In Colab\"/></a>"
      ]
    },
    {
      "cell_type": "code",
      "source": [
        "!pip install apscheduler"
      ],
      "metadata": {
        "colab": {
          "base_uri": "https://localhost:8080/"
        },
        "id": "IfmtkxY4filk",
        "outputId": "dfd58483-3b73-4efb-f5e7-6e7230db4808"
      },
      "execution_count": 9,
      "outputs": [
        {
          "output_type": "stream",
          "name": "stdout",
          "text": [
            "Collecting apscheduler\n",
            "  Downloading APScheduler-3.10.4-py3-none-any.whl (59 kB)\n",
            "\u001b[?25l     \u001b[90m━━━━━━━━━━━━━━━━━━━━━━━━━━━━━━━━━━━━━━━━\u001b[0m \u001b[32m0.0/59.3 kB\u001b[0m \u001b[31m?\u001b[0m eta \u001b[36m-:--:--\u001b[0m\r\u001b[2K     \u001b[90m━━━━━━━━━━━━━━━━━━━━━━━━━━━━━━━━━━━━━━━━\u001b[0m \u001b[32m59.3/59.3 kB\u001b[0m \u001b[31m1.9 MB/s\u001b[0m eta \u001b[36m0:00:00\u001b[0m\n",
            "\u001b[?25hRequirement already satisfied: six>=1.4.0 in /usr/local/lib/python3.10/dist-packages (from apscheduler) (1.16.0)\n",
            "Requirement already satisfied: pytz in /usr/local/lib/python3.10/dist-packages (from apscheduler) (2023.4)\n",
            "Requirement already satisfied: tzlocal!=3.*,>=2.0 in /usr/local/lib/python3.10/dist-packages (from apscheduler) (5.2)\n",
            "Installing collected packages: apscheduler\n",
            "Successfully installed apscheduler-3.10.4\n"
          ]
        }
      ]
    },
    {
      "cell_type": "code",
      "execution_count": 10,
      "metadata": {
        "id": "SKuPTCx1Z_0n"
      },
      "outputs": [],
      "source": [
        "from googleapiclient.discovery import build\n",
        "from apscheduler.schedulers.blocking import BlockingScheduler\n",
        "\n",
        "import pandas as pd\n",
        "from datetime import datetime\n",
        "import csv\n",
        "\n"
      ]
    },
    {
      "cell_type": "code",
      "source": [
        "def create_csv(name):\n",
        "  with open(name+'.csv', 'w', newline='') as file:\n",
        "        writer = csv.writer(file)\n",
        "        field = [\"time\", \"view\",\"likes\",\"view_like_ratio\"]\n",
        "\n",
        "        writer.writerow(field)\n",
        "def create_csvs(name_list):\n",
        "  for name in name_list:\n",
        "    print(\"Created csv for \"+name)\n",
        "    create_csv(name)\n",
        "\n",
        "\n",
        "name_id_dict = {\n",
        "    \"chiquita\":\"Tn3bGHiBWkg\",\n",
        "    \"ahyeon\":\"R1bUQxe51mc\",\n",
        "    \"asa\":\"fuufj_g-Ckg\",\n",
        "    \"pharita\":\"Y1XAg16LAzA\",\n",
        "    \"ruka\":\"g-X59vvHcPY\",\n",
        "    \"rami\":\"9a60VuhDJag\",\n",
        "    \"rora\":\"IEK1-I9rek0\"\n",
        "}\n",
        "names = name_id_dict.keys()\n",
        "create_csvs(names)"
      ],
      "metadata": {
        "colab": {
          "base_uri": "https://localhost:8080/"
        },
        "id": "jOxaj1ZlQlQ_",
        "outputId": "e1191e0b-23f4-4e67-f6f5-94fbb70fb535"
      },
      "execution_count": 16,
      "outputs": [
        {
          "output_type": "stream",
          "name": "stdout",
          "text": [
            "Created csv for chiquita\n",
            "Created csv for ahyeon\n",
            "Created csv for asa\n",
            "Created csv for pharita\n",
            "Created csv for ruka\n",
            "Created csv for rami\n",
            "Created csv for rora\n"
          ]
        }
      ]
    },
    {
      "cell_type": "code",
      "source": [
        "\n",
        "\n",
        "ids = name_id_dict.values()\n",
        "def insert_data(youtube_api, date_time):\n",
        "  for name, id in name_id_dict.items():\n",
        "    print(\"date and time =\", date_time)\n",
        "    request = youtube_api.videos().list(\n",
        "      part=\"statistics\",\n",
        "      id=id\n",
        "    )\n",
        "    r = request.execute()\n",
        "    try:\n",
        "        views = r['items'][0]['statistics']['viewCount']\n",
        "        likes = r['items'][0]['statistics']['likeCount']\n",
        "        view_like_ratio = (int(views)/int(likes))\n",
        "        with open(name+'.csv', 'a', newline='') as file:\n",
        "            writer = csv.writer(file)\n",
        "\n",
        "            writer.writerow([date_time, views, likes, view_like_ratio])\n",
        "    except:\n",
        "        pass\n",
        "def job():\n",
        "\n",
        "  with open('credentials.txt') as f:\n",
        "    api_key = f.read()  # Please set your API key\n",
        "\n",
        "  api_service_name = \"youtube\"\n",
        "  api_version = \"v3\"\n",
        "  youtube_api = build(api_service_name, api_version, developerKey=api_key)\n",
        "  now = datetime.now()\n",
        "  date_time = now.strftime(\"%m/%d/%Y, %H:%M:%S\")\n",
        "  insert_data(youtube_api, date_time)\n",
        "\n",
        "# scheduler = BlockingScheduler()\n",
        "# scheduler.add_job(job, 'interval', hours=1)\n",
        "# scheduler.start()\n"
      ],
      "metadata": {
        "id": "HKyY37k_jWW5"
      },
      "execution_count": 21,
      "outputs": []
    },
    {
      "cell_type": "code",
      "source": [
        "job()"
      ],
      "metadata": {
        "colab": {
          "base_uri": "https://localhost:8080/"
        },
        "id": "i6ZdZnFcS2dy",
        "outputId": "57b2690c-9567-4bd9-80d7-c8ca37ec58cf"
      },
      "execution_count": 23,
      "outputs": [
        {
          "output_type": "stream",
          "name": "stdout",
          "text": [
            "date and time = 07/08/2024, 22:53:20\n",
            "date and time = 07/08/2024, 22:53:20\n",
            "date and time = 07/08/2024, 22:53:20\n",
            "date and time = 07/08/2024, 22:53:20\n",
            "date and time = 07/08/2024, 22:53:20\n",
            "date and time = 07/08/2024, 22:53:20\n",
            "date and time = 07/08/2024, 22:53:20\n"
          ]
        }
      ]
    },
    {
      "cell_type": "code",
      "source": [
        "\n"
      ],
      "metadata": {
        "id": "BrPa2jDsS2bT"
      },
      "execution_count": null,
      "outputs": []
    },
    {
      "cell_type": "code",
      "source": [],
      "metadata": {
        "colab": {
          "base_uri": "https://localhost:8080/"
        },
        "id": "mPMvVYJWeKT7",
        "outputId": "9774ffdc-abe6-46e4-80fa-dcfc3fa80aab"
      },
      "execution_count": null,
      "outputs": [
        {
          "output_type": "stream",
          "name": "stdout",
          "text": [
            "date and time = 08_07_2024_04_18_35\n",
            "{'kind': 'youtube#videoListResponse', 'etag': 'cChotGlNDqSiGhpjHYYFvAm4km4', 'items': [{'kind': 'youtube#video', 'etag': 'XZRn91cFD4YHObqVBrjez672Nrc', 'id': 'Tn3bGHiBWkg', 'statistics': {'viewCount': '278520', 'likeCount': '33910', 'favoriteCount': '0', 'commentCount': '2898'}}], 'pageInfo': {'totalResults': 1, 'resultsPerPage': 1}}\n",
            "date and time = 08_07_2024_04_18_35\n",
            "{'kind': 'youtube#videoListResponse', 'etag': 'wWWLcOoEA-vSsWju7PK_WocNSLs', 'items': [{'kind': 'youtube#video', 'etag': 'MD2arVdtBXtBeFUwhCL-IVcPuA0', 'id': 'R1bUQxe51mc', 'statistics': {'viewCount': '157413', 'likeCount': '19148', 'favoriteCount': '0', 'commentCount': '3031'}}], 'pageInfo': {'totalResults': 1, 'resultsPerPage': 1}}\n",
            "date and time = 08_07_2024_04_18_35\n",
            "{'kind': 'youtube#videoListResponse', 'etag': 'Sj2SIcve9DCbQlsJLBoOguQMtfY', 'items': [{'kind': 'youtube#video', 'etag': '6WrjFXOGKwiqvdOPggXnJynZpCY', 'id': 'fuufj_g-Ckg', 'statistics': {'viewCount': '111040', 'likeCount': '15496', 'favoriteCount': '0', 'commentCount': '1357'}}], 'pageInfo': {'totalResults': 1, 'resultsPerPage': 1}}\n",
            "date and time = 08_07_2024_04_18_35\n",
            "{'kind': 'youtube#videoListResponse', 'etag': 'Z6j2lvSqQrMlIk7vKRWk8snIQ7o', 'items': [{'kind': 'youtube#video', 'etag': 'rqtYKScRrW5C6LG4ENZ0Xde__3k', 'id': 'Y1XAg16LAzA', 'statistics': {'viewCount': '75432', 'likeCount': '11363', 'favoriteCount': '0', 'commentCount': '1042'}}], 'pageInfo': {'totalResults': 1, 'resultsPerPage': 1}}\n",
            "date and time = 08_07_2024_04_18_35\n",
            "{'kind': 'youtube#videoListResponse', 'etag': 'gEIM6KS5U1fB-cLXyzqK2qzNqbw', 'items': [{'kind': 'youtube#video', 'etag': 'B66Un8oMfM9lGR3ZTEYtVv_NRqI', 'id': 'g-X59vvHcPY', 'statistics': {'viewCount': '96480', 'likeCount': '13652', 'favoriteCount': '0', 'commentCount': '1411'}}], 'pageInfo': {'totalResults': 1, 'resultsPerPage': 1}}\n",
            "date and time = 08_07_2024_04_18_35\n",
            "{'kind': 'youtube#videoListResponse', 'etag': 'RuwsaQX3WhpydL5f-1D1lKuWaLs', 'items': [{'kind': 'youtube#video', 'etag': 'FBHl5hS3qeslfWUR2uPjuzvRINE', 'id': '9a60VuhDJag', 'statistics': {'viewCount': '62005', 'likeCount': '10702', 'favoriteCount': '0', 'commentCount': '1122'}}], 'pageInfo': {'totalResults': 1, 'resultsPerPage': 1}}\n",
            "date and time = 08_07_2024_04_18_35\n",
            "{'kind': 'youtube#videoListResponse', 'etag': 'nF2ZLLQOzHJ0DsnhPRTI038ejy8', 'items': [{'kind': 'youtube#video', 'etag': 'g_WND_t6mC3c9ryPIkvMhIeIw8M', 'id': 'IEK1-I9rek0', 'statistics': {'viewCount': '58683', 'likeCount': '10192', 'favoriteCount': '0', 'commentCount': '1267'}}], 'pageInfo': {'totalResults': 1, 'resultsPerPage': 1}}\n",
            "{'name': ['chiquita', 'ahyeon', 'asa', 'pharita', 'ruka', 'rami', 'rora'], 'views': ['278520', '157413', '111040', '75432', '96480', '62005', '58683'], 'likes': ['33910', '19148', '15496', '11363', '13652', '10702', '10192'], 'comments': ['2898', '3031', '1357', '1042', '1411', '1122', '1267'], 'current_time': ['08_07_2024_04_18_35', '08_07_2024_04_18_35', '08_07_2024_04_18_35', '08_07_2024_04_18_35', '08_07_2024_04_18_35', '08_07_2024_04_18_35', '08_07_2024_04_18_35'], 'view_likes_ratio': [8.213506340312593, 8.220858575308126, 7.165720185854414, 6.638387749713984, 7.067096396132435, 5.793776864137544, 5.757751177394034]}\n"
          ]
        }
      ]
    },
    {
      "cell_type": "code",
      "source": [],
      "metadata": {
        "id": "VZYSy3zMhglF"
      },
      "execution_count": null,
      "outputs": []
    }
  ]
}